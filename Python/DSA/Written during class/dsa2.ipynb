{
 "cells": [
  {
   "cell_type": "markdown",
   "id": "f5d5bfc8",
   "metadata": {},
   "source": [
    "<h1>Star Pattern</h1>"
   ]
  },
  {
   "cell_type": "code",
   "execution_count": 1,
   "id": "c0bcd65d",
   "metadata": {},
   "outputs": [
    {
     "name": "stdout",
     "output_type": "stream",
     "text": [
      "    * \n",
      "  * * \n",
      "* * * \n"
     ]
    }
   ],
   "source": [
    "n = int(input(\"Enter a number\"))\n",
    "for i in range(n):\n",
    "    for j in range(n):\n",
    "        if(j<n-(i+1)):\n",
    "            print(\" \",end=\" \")\n",
    "        else:\n",
    "            print(\"*\",end=\" \")\n",
    "    print()"
   ]
  },
  {
   "cell_type": "code",
   "execution_count": null,
   "id": "4385ba3e",
   "metadata": {},
   "outputs": [],
   "source": [
    "n = int(input(\"Enter a number\"))\n",
    "for i in range(n):\n",
    "    for j in range(n):\n",
    "        if(j<n-(i+1)):\n",
    "            print(\" \",end=\" \")\n",
    "        else:\n",
    "            print(\"*\",end=\" \")\n",
    "    print()"
   ]
  },
  {
   "cell_type": "code",
   "execution_count": 4,
   "id": "ec2efc7a",
   "metadata": {},
   "outputs": [
    {
     "data": {
      "text/plain": [
       "120"
      ]
     },
     "execution_count": 4,
     "metadata": {},
     "output_type": "execute_result"
    }
   ],
   "source": [
    "def water_bottle(n):\n",
    "    if(n<=0):\n",
    "        return 1\n",
    "    else:\n",
    "        return n*water_bottle(n-1)\n",
    "water_bottle(5)"
   ]
  },
  {
   "cell_type": "code",
   "execution_count": 6,
   "id": "49cdcb51",
   "metadata": {},
   "outputs": [
    {
     "name": "stdout",
     "output_type": "stream",
     "text": [
      "Reversed Number is: 165\n"
     ]
    }
   ],
   "source": [
    "n=int(input(\"Enter a number\"))\n",
    "rev=0\n",
    "while(n>0):\n",
    "    dig=n%10\n",
    "    rev=rev*10+dig\n",
    "    n=n//10\n",
    "print(\"Reversed Number is:\",rev)"
   ]
  },
  {
   "cell_type": "code",
   "execution_count": 8,
   "id": "1cdaf9b0",
   "metadata": {},
   "outputs": [
    {
     "name": "stdout",
     "output_type": "stream",
     "text": [
      "561\n"
     ]
    }
   ],
   "source": [
    "n = int(input(\"Enter a number\"))\n",
    "def reverse_num(n):\n",
    "    if(n<=0):\n",
    "        return 0\n",
    "    else:\n",
    "        return (n%10)*10**(len(str(n))-1)+reverse_num(n//10)\n",
    "print(reverse_num(n))"
   ]
  },
  {
   "cell_type": "code",
   "execution_count": null,
   "id": "e282cf5f",
   "metadata": {},
   "outputs": [
    {
     "name": "stdout",
     "output_type": "stream",
     "text": [
      "    *\n",
      "   **\n",
      "  ***\n",
      " ****\n",
      "*****\n"
     ]
    }
   ],
   "source": [
    "n=int(input(\"Enter a number\"))\n",
    "def starprint(n,i=1):\n",
    "    if(n==0):\n",
    "        pass\n",
    "    else:\n",
    "        print(\" \"*(n-1), end=\"\")\n",
    "        print(\"*\"*i)\n",
    "        starprint(n-1,i=i+1)\n",
    "starprint(n)"
   ]
  },
  {
   "cell_type": "code",
   "execution_count": 13,
   "id": "f3f9c74b",
   "metadata": {},
   "outputs": [
    {
     "name": "stdout",
     "output_type": "stream",
     "text": [
      "    * \n",
      "   * * \n",
      "  * * * \n",
      " * * * * \n",
      "* * * * * \n"
     ]
    }
   ],
   "source": [
    "n=int(input(\"Enter a number\"))\n",
    "def starprint(n,i=1):\n",
    "    if(n==0):\n",
    "        pass\n",
    "    else:\n",
    "        print(\" \"*(n-1), end=\"\")\n",
    "        print(\"* \"*i)\n",
    "        starprint(n-1,i=i+1)\n",
    "starprint(n)"
   ]
  },
  {
   "cell_type": "code",
   "execution_count": 15,
   "id": "35f3a88b",
   "metadata": {},
   "outputs": [
    {
     "name": "stdout",
     "output_type": "stream",
     "text": [
      " * * * * * \n",
      "  * * * * \n",
      "   * * * \n",
      "    * * \n",
      "     * \n"
     ]
    }
   ],
   "source": [
    "n=int(input(\"Enter a number\"))\n",
    "def starprint(n,i=1):\n",
    "    if(n==0):\n",
    "        pass\n",
    "    else:\n",
    "        print(\" \"*i, end=\"\")\n",
    "        print(\"* \"*(n))\n",
    "        starprint(n-1,i=i+1)\n",
    "starprint(n)"
   ]
  },
  {
   "cell_type": "code",
   "execution_count": 61,
   "id": "6464c6c1",
   "metadata": {},
   "outputs": [
    {
     "name": "stdout",
     "output_type": "stream",
     "text": [
      " * * * * \n",
      "  * * * \n",
      "   * * \n",
      "    * \n"
     ]
    }
   ],
   "source": [
    "n=int(input(\"Enter a number\"))\n",
    "def starprint(n,i=1):\n",
    "    if(n==0):\n",
    "        pass\n",
    "    else:\n",
    "        print(\" \"*i, end=\"\")\n",
    "        print(\"* \"*(n))\n",
    "        starprint(n-1,i=i+1)\n",
    "starprint(n)\n"
   ]
  },
  {
   "cell_type": "code",
   "execution_count": 17,
   "id": "b86a836c",
   "metadata": {},
   "outputs": [
    {
     "name": "stdout",
     "output_type": "stream",
     "text": [
      "1, 1, 2, 3, 5, 8, 13, "
     ]
    }
   ],
   "source": [
    "n=int(input(\"Enter a number\"))\n",
    "def fib(n, prevnum=0,curnum=1):\n",
    "    if(n==0):\n",
    "        pass\n",
    "    else:\n",
    "        print(curnum, end=\", \")\n",
    "        fib(n-1,prevnum=curnum,curnum=curnum+prevnum)\n",
    "fib(n)"
   ]
  },
  {
   "cell_type": "code",
   "execution_count": 24,
   "id": "f6818dcb",
   "metadata": {},
   "outputs": [
    {
     "name": "stdout",
     "output_type": "stream",
     "text": [
      "13\n"
     ]
    }
   ],
   "source": [
    "n=int(input(\"Enter a number\"))\n",
    "def fib(n):\n",
    "    if(n==1 or n==2):\n",
    "        return 1\n",
    "    return fib(n-1)+fib(n-2)\n",
    "ans=fib(n)\n",
    "print(ans)"
   ]
  },
  {
   "cell_type": "code",
   "execution_count": 25,
   "id": "feff7907",
   "metadata": {},
   "outputs": [
    {
     "name": "stdout",
     "output_type": "stream",
     "text": [
      "77\n"
     ]
    }
   ],
   "source": [
    "n=int(input())\n",
    "myList=input().split()\n",
    "sum=0\n",
    "for i in range(n):\n",
    "    sum+=int(myList[i])\n",
    "print(sum)"
   ]
  },
  {
   "cell_type": "code",
   "execution_count": 29,
   "id": "92337c63",
   "metadata": {},
   "outputs": [
    {
     "name": "stdout",
     "output_type": "stream",
     "text": [
      "['6', '4', '12', '453', '21', '45', '30', '1', '343']\n",
      "Minimum is 1 at 7\n",
      "Maximum is 453 at 3\n"
     ]
    }
   ],
   "source": [
    "myList = input().split()\n",
    "min=int(myList[0])\n",
    "mindex=0\n",
    "max=int(myList[0])\n",
    "maxdex=0\n",
    "for i in range(len(myList)-1):\n",
    "    if(min>=int(myList[i])):\n",
    "        min=int(myList[i])\n",
    "        mindex=i\n",
    "    if(max<=int(myList[i])):\n",
    "        max=int(myList[i])\n",
    "        maxdex=i\n",
    "print(myList)\n",
    "print(\"Minimum is\",min,\"at\",mindex)\n",
    "print(\"Maximum is\",max,\"at\",maxdex)"
   ]
  },
  {
   "cell_type": "code",
   "execution_count": 64,
   "id": "0890e722",
   "metadata": {},
   "outputs": [
    {
     "name": "stdout",
     "output_type": "stream",
     "text": [
      "List of values: [1, 2, 3, 4, 5]\n"
     ]
    }
   ],
   "source": [
    "myList=input().split()\n",
    "n=len(myList)\n",
    "for i in range(len(myList)):\n",
    "    myList[i]=int(myList[i])\n",
    "print(\"List of values:\",myList)\n"
   ]
  },
  {
   "cell_type": "code",
   "execution_count": 55,
   "id": "fbf2c287",
   "metadata": {},
   "outputs": [
    {
     "name": "stdout",
     "output_type": "stream",
     "text": [
      "2.5384615384615383\n"
     ]
    }
   ],
   "source": [
    "mean=0\n",
    "sum=0\n",
    "for i in myList:\n",
    "    sum=sum+i\n",
    "mean=sum/len(myList)\n",
    "print(mean)"
   ]
  },
  {
   "cell_type": "code",
   "execution_count": 56,
   "id": "d7093130",
   "metadata": {},
   "outputs": [
    {
     "name": "stdout",
     "output_type": "stream",
     "text": [
      "2\n"
     ]
    }
   ],
   "source": [
    "median=0\n",
    "myList.sort()\n",
    "if(n%2==0):\n",
    "    median=(myList[n//2-1]+myList[n//2])/2\n",
    "else:\n",
    "    median=myList[int(n//2)]\n",
    "print(median)"
   ]
  },
  {
   "cell_type": "code",
   "execution_count": 67,
   "id": "f7577192",
   "metadata": {},
   "outputs": [
    {
     "name": "stdout",
     "output_type": "stream",
     "text": [
      "Mode: 0 Count: 0\n"
     ]
    }
   ],
   "source": [
    "#Method 1\n",
    "# count=[]\n",
    "# for i in range(len(myList)):\n",
    "#     sum=0\n",
    "#     for j in range(len(myList)):\n",
    "#         if(myList[i]==myList[j]):\n",
    "#             sum+=1\n",
    "#     count.append(sum)\n",
    "# mode=0\n",
    "# maxcount=count[0]\n",
    "# maxcountind=0\n",
    "# for i in range(len(count)):\n",
    "#     if(maxcount<=count[i]):\n",
    "#         maxcount=count[i]\n",
    "#         maxcountind=i\n",
    "# mode=myList[maxcountind]\n",
    "# print(mode)\n",
    "#Method 2\n",
    "# maxCount=0\n",
    "# maxElement=myList[0]\n",
    "# currCount=0\n",
    "# currElement=myList[0]\n",
    "# for i in range(len(myList)):\n",
    "#     currElement=myList[i]\n",
    "#     for j in range(len(myList)):\n",
    "#         if(myList[j]==currElement):\n",
    "#             currCount+=1\n",
    "#     if(maxCount<=currCount):\n",
    "#         maxCount=currCount\n",
    "#         maxElement=currElement\n",
    "#     currCount=0\n",
    "# print(\"Mode:\",maxElement)\n",
    "maxElement=0\n",
    "currCount=0\n",
    "maxCount=0\n",
    "myList.sort()\n",
    "for i in range(len(myList)-1):\n",
    "    if myList[i]==myList[i+1]:\n",
    "        currCount+=1\n",
    "    else:\n",
    "        if(currCount>maxCount):\n",
    "            maxCount=currCount\n",
    "            maxElement=myList[i]\n",
    "        currCount=0\n",
    "if(currCount>maxCount):\n",
    "    maxCount=currCount\n",
    "    maxElement=myList[-1]\n",
    "print(\"Mode:\",maxElement, \"Count:\",maxCount)"
   ]
  },
  {
   "cell_type": "code",
   "execution_count": null,
   "id": "fdecb32f",
   "metadata": {},
   "outputs": [
    {
     "name": "stdout",
     "output_type": "stream",
     "text": [
      "[5, 4, 3, 2, 1]\n",
      "[5, 3, 1]\n",
      "[1, 4, 9, 16, 25]\n"
     ]
    }
   ],
   "source": [
    "print(myList[(len(myList)-1)::-1])\n",
    "print(myList[::-2])\n",
    "squares= [n**2 for n in myList]\n",
    "print(squares)\n"
   ]
  },
  {
   "cell_type": "code",
   "execution_count": 94,
   "id": "9ce3f4cf",
   "metadata": {},
   "outputs": [
    {
     "name": "stdout",
     "output_type": "stream",
     "text": [
      "1\t4\t7\t\n",
      "2\t5\t8\t\n",
      "3\t6\t9\t\n"
     ]
    }
   ],
   "source": [
    "matrix=[[1,2,3],[4,5,6],[7,8,9]]\n",
    "for i in range(len(matrix)):\n",
    "    for j in range(len(matrix[0])):\n",
    "        if(j>i):\n",
    "            temp= matrix[i][j]\n",
    "            matrix[i][j]=matrix[j][i]\n",
    "            matrix[j][i]=temp\n",
    "for i in range(len(matrix)):\n",
    "    for j in range(len(matrix[0])):\n",
    "        print(matrix[i][j],end=\"\\t\")\n",
    "    print()\n",
    "    \n"
   ]
  },
  {
   "cell_type": "code",
   "execution_count": null,
   "id": "cd148ace",
   "metadata": {},
   "outputs": [
    {
     "name": "stdout",
     "output_type": "stream",
     "text": [
      "String is a palindrome\n"
     ]
    }
   ],
   "source": [
    "myStr= input(\"Enter a string\").lower()\n",
    "rev=myStr[::-1]\n",
    "if(rev==myStr):\n",
    "    print(\"String is a palindrome\")\n",
    "else:\n",
    "    print(\"String is not a palindrome\")"
   ]
  },
  {
   "cell_type": "code",
   "execution_count": 8,
   "id": "2634ad6a",
   "metadata": {},
   "outputs": [
    {
     "name": "stdout",
     "output_type": "stream",
     "text": [
      "String is a palindrome\n"
     ]
    }
   ],
   "source": [
    "def isPalindrome(s):\n",
    "    revers=\"\"\n",
    "    for i in range(len(s)):\n",
    "        if(s[i].isupper()):\n",
    "            s[i]=s[i].lower()\n",
    "        revers+=s[i]\n",
    "    return revers==s.lower()\n",
    "if(isPalindrome(myStr)):\n",
    "    print(\"String is a palindrome\")\n",
    "else:\n",
    "    print(\"String is not a palindrome\")"
   ]
  },
  {
   "cell_type": "code",
   "execution_count": null,
   "id": "9e2c6d1f",
   "metadata": {},
   "outputs": [],
   "source": []
  }
 ],
 "metadata": {
  "kernelspec": {
   "display_name": "base",
   "language": "python",
   "name": "python3"
  },
  "language_info": {
   "codemirror_mode": {
    "name": "ipython",
    "version": 3
   },
   "file_extension": ".py",
   "mimetype": "text/x-python",
   "name": "python",
   "nbconvert_exporter": "python",
   "pygments_lexer": "ipython3",
   "version": "3.13.5"
  }
 },
 "nbformat": 4,
 "nbformat_minor": 5
}
